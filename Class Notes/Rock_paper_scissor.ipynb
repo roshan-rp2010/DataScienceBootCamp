{
  "nbformat": 4,
  "nbformat_minor": 0,
  "metadata": {
    "colab": {
      "provenance": []
    },
    "kernelspec": {
      "name": "python3",
      "display_name": "Python 3"
    },
    "language_info": {
      "name": "python"
    }
  },
  "cells": [
    {
      "cell_type": "code",
      "source": [
        "import random"
      ],
      "metadata": {
        "id": "aEmMyPXFZKdr"
      },
      "execution_count": 25,
      "outputs": []
    },
    {
      "cell_type": "markdown",
      "source": [
        "Rock, paper, scissor game.\n",
        "\n",
        "Game doesn't quit till user wins"
      ],
      "metadata": {
        "id": "wmrcQjuSXImQ"
      }
    },
    {
      "cell_type": "code",
      "source": [
        "# function to take input from user\n",
        "def take_input():\n",
        "  choices = [\"rock\", \"scissor\", \"paper\"]\n",
        "  user_choice = (input(\"Enter rock, paper, or scissor: \")).lower()\n",
        "\n",
        "  while user_choice not in choices:\n",
        "    print(\"Unavailable choice!\")\n",
        "    user_choice = (input(\"Enter rock or paper or scissor: \")).lower()\n",
        "\n",
        "  return user_choice"
      ],
      "metadata": {
        "id": "5WdjnGipar1_"
      },
      "execution_count": 26,
      "outputs": []
    },
    {
      "cell_type": "code",
      "source": [
        "# function to execute if computer wins\n",
        "def comp_won(tmp1):\n",
        "  print(\"Computer choice:\",tmp1,\"\\nSo, you lost!\\n\")\n",
        "\n",
        "# function to execute if user wins\n",
        "def user_won(tmp1):\n",
        "  print(\"Computer choice:\",tmp1,\"\\nSo, you win!\\n\")"
      ],
      "metadata": {
        "id": "XbATOGD_b7fA"
      },
      "execution_count": 27,
      "outputs": []
    },
    {
      "cell_type": "code",
      "execution_count": null,
      "metadata": {
        "id": "kf-1SBOSXIDD"
      },
      "outputs": [],
      "source": [
        "#main\n",
        "\n",
        "choices = [\"rock\", \"scissor\", \"paper\"]\n",
        "user_wins = False\n",
        "\n",
        "print(\"Welcome to the game of rock, paper, scissor!\\nPlease enter your choice below and computer will randomly select an option afterwards.\\nGame continues until you win!\\n\")\n",
        "\n",
        "while user_wins == False:\n",
        "  # user makes their choice in method above\n",
        "  user_choice = take_input()\n",
        "  # comp makes its choice using random\n",
        "  comp_choice = random.choice(choices)\n",
        "  # condition to check winner\n",
        "  if user_choice == comp_choice:\n",
        "    print(\"Computer choose:\",comp_choice,\"\\nYou both choose the same thing, it's a draw!\\n\")\n",
        "  elif user_choice == \"rock\" and comp_choice == \"scissor\":\n",
        "    user_won(comp_choice)\n",
        "    user_wins = True\n",
        "  elif user_choice == \"scissor\" and comp_choice == \"paper\":\n",
        "    user_won(comp_choice)\n",
        "    user_wins = True\n",
        "  elif user_choice == \"paper\" and comp_choice == \"rock\":\n",
        "    user_won(comp_choice)\n",
        "    user_wins = True\n",
        "  else:\n",
        "    comp_won(comp_choice)\n",
        ""
      ]
    }
  ]
}