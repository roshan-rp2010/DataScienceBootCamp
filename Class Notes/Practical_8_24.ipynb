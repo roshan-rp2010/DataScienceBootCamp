{
  "nbformat": 4,
  "nbformat_minor": 0,
  "metadata": {
    "colab": {
      "provenance": []
    },
    "kernelspec": {
      "name": "python3",
      "display_name": "Python 3"
    },
    "language_info": {
      "name": "python"
    }
  },
  "cells": [
    {
      "cell_type": "markdown",
      "source": [
        "Create this Matrix and User should be able to replace any number with X\n",
        "\n",
        "<img src=\"data:image/png;base64,iVBORw0KGgoAAAANSUhEUgAAAKwAAACdCAYAAAApF5PQAAAAAXNSR0IArs4c6QAAAARnQU1BAACxjwv8YQUAAAAJcEhZcwAAEnQAABJ0Ad5mH3gAAARISURBVHhe7d0BbpwwFEXRtEvJ/teUrbR1E0sWxTApNrwL90io6XQEH/vNlxvh5MevP94kiJ9ff0oIBlYoBlYoBlYoBlYoBlYoBlYoBlYoBlYoBlYojwzs+/v734OKXv8RdlihGFihGFihRDxe+Op67OPj4+urY+r1Rp2v6t3HrOuMPm+xvIcZ1zjCDjvI1odu699SlBrX6uy9fhXEA9x1wFI77N750usveuecca0j4jts2oDd0dYY19fqe67mkmCglEm9s+jAUrprW18b2vI15R4o7LCDLEPbBpcS1rbmau21K8UG1s50nrUPWz3S2GEHaSe3BGAZgnS9xpDWMCK/rVUneNZgjT7/3vnOvt5oZ19vix1Wm5LCWsQFNm2AvqPW3lp7jSKx9qglQTtAMwM740OxN7kzrnVW/UnNI3JJkDRAr9qqmXg/Rak7rfZH/jC4GR3qTPT6j/A/XUIxsEIxsEJ55BpWXHZYoRhYoRhYoRhYoRhYoRhYoRhYoRhYoRhYoRhYoRhYoRhYoRhYoRhYoRhYoUx9Hra3E7O3F8n3f7rr+0ewwwrFHQdCscMKxcAKxcAKxcAKxcAKxcAKxcAKxcAKxcAKxcAKxcAKxcAKxcAK5ZGBLc9x9p7lJKDXf4QdVigGVigGViixOw7aNdroPUL13CPPu7emnHGtWXun1u5l5j6t74jssHuTrznKuKePfWSHXQ4aqcOe0Ylm1l+kdNM1cR32zInXv9LHPSqwhvUapHGPCaxhzVDmYXkk8dtag6VP+JZerUn3EBHYOiB37a6k0JY5aI8q5R4uD+xdwrqc6HpUhNC29VZrr10pag27PKrl30nSJpzONaxQon8YXO2qo7vUrPOumXGtM8955li9wg47SJnYtYMmvX4DO1npTCndaUuvzrT6H/nzYWvnIARpDb3+I+ywQjGwQjGwQvF3HAjFDisUAysUAysUAysUAysUAysUAysUAysUAysUAysUAysUAysUAysUAysUAyuUqc/D9nZd9vYi+f5Pd33/CHZYobjjQCh2WKEYWKEYWKEYWKEYWKEYWKEYWKEYWKEYWKEYWKEYWKEYWKEYWKEYWKE8MrDlwePew8cE9PqPsMMKxcAKxcAKJW6LTLs2m7WZrV5jxvmXa8uZ1xh97rV18cwNhf8jpsOWwVobMIpe/ZR76tWZVn9EYNtBSftEv6rWXf6sR0UJbVt7av0Rga2D0w4S0bJ+0v2s1ZpYf8ySgB5WncPvEqirLgWSmomBnShxwveUmutRpNVuYLWpDW8CAztJaofaU+ptjyoltAZ2AmpY16Tdg4Ed7E5hTWRgB7pjWFOWAlXEswSvDMrIEMwI1pn3cEX9KR9CO6w2laCmhLV45A80ntGhzkSv/wg7rFAMrFAMrFD8pRxCscMKxcAKxcAKxcAKxcAKxcAKxcAKxcAKxcAKxcAKxcAKxcAKxcAKxcAK5O3tN337KoPGYrI8AAAAAElFTkSuQmCC\">"
      ],
      "metadata": {
        "id": "rntdFJx6oN0N"
      }
    },
    {
      "cell_type": "code",
      "source": [
        "def newline():\n",
        "  print(\"\")"
      ],
      "metadata": {
        "id": "CHV2FZGHqusk"
      },
      "execution_count": 2,
      "outputs": []
    },
    {
      "cell_type": "code",
      "source": [
        "def printmatrix(tmpmat):\n",
        "  print(\" {} | {} | {} \".format(tmpmat[6],tmpmat[7],tmpmat[8]))\n",
        "  print(\"-----------\")\n",
        "  print(\" {} | {} | {} \".format(tmpmat[3],tmpmat[4],tmpmat[5]))\n",
        "  print(\"-----------\")\n",
        "  print(\" {} | {} | {} \".format(tmpmat[0],tmpmat[1],tmpmat[2]))\n",
        "\n",
        "printmatrix([1,2,3,4,5,6,7,8,9])"
      ],
      "metadata": {
        "id": "TfMcDUP4owTF"
      },
      "execution_count": null,
      "outputs": []
    },
    {
      "cell_type": "code",
      "execution_count": null,
      "metadata": {
        "id": "1GH1iiyJfFWs"
      },
      "outputs": [],
      "source": [
        "mymatrix = [1,2,3,4,5,6,7,8,9]\n",
        "to_replace = 0\n",
        "\n",
        "printmatrix(mymatrix)\n",
        "newline()\n",
        "\n",
        "while True:\n",
        "  try:\n",
        "    to_replace = int(input(\"Please enter a number to remove:\"))\n",
        "    if to_replace < 1 or to_replace > 9:\n",
        "      raise Exception(\"Input must be a number in the matrix!\\nPlease try again!\\n\")\n",
        "      continue\n",
        "    break\n",
        "  except Exception:\n",
        "    print(\"Input must be a number in the matrix!\\nPlease try again!\\n\")\n",
        "\n",
        "mymatrix[mymatrix.index(to_replace)] = \"X\"\n",
        "\n",
        "printmatrix(mymatrix)\n",
        "newline()"
      ]
    }
  ]
}