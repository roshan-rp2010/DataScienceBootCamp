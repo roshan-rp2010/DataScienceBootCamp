{
  "nbformat": 4,
  "nbformat_minor": 0,
  "metadata": {
    "colab": {
      "provenance": []
    },
    "kernelspec": {
      "name": "python3",
      "display_name": "Python 3"
    },
    "language_info": {
      "name": "python"
    }
  },
  "cells": [
    {
      "cell_type": "code",
      "execution_count": null,
      "metadata": {
        "id": "tkybZZK1_vr4"
      },
      "outputs": [],
      "source": [
        "# 1\n",
        "while True:\n",
        "  try:\n",
        "    age = float(input(\"Years of service: \"))\n",
        "    salary = float(input(\"Salary: \"))\n",
        "    break\n",
        "  except Exception:\n",
        "      print(\"Invalid input!\")\n",
        "\n",
        "if(age < 0 or salary < 0):\n",
        "  print(\"Neither years of service nor salary can be negative\")\n",
        "else:\n",
        "  if(age > 5):\n",
        "    print(\"Your net bonus is: \", salary*0.05)\n",
        "  else:\n",
        "    print(\"Your salary remains the same.\")"
      ]
    },
    {
      "cell_type": "code",
      "source": [
        "# 2\n",
        "while True:\n",
        "  try:\n",
        "    ln = float(input(\"Length of the rectangle:\"))\n",
        "    br = float(input(\"Breadth of the rectangle: \"))\n",
        "    break\n",
        "  except Exception:\n",
        "    print(\"Invalid input!\")\n",
        "\n",
        "if(ln <= 0 or br <= 0):\n",
        "  print(\"Rectangles measurements can only be natural numbers!\")\n",
        "else:\n",
        "  if(ln == br):\n",
        "    print(\"It is a square!\")\n",
        "  else:\n",
        "    print(\"It is NOT a square!\")"
      ],
      "metadata": {
        "id": "bsQthlUiB2wG"
      },
      "execution_count": null,
      "outputs": []
    },
    {
      "cell_type": "code",
      "source": [
        "# 3\n",
        "while True:\n",
        "  try:\n",
        "    int1 = int(input(\"First integer: \"))\n",
        "    int2 = int(input(\"Second integer: \"))\n",
        "    break\n",
        "  except Exception as e:\n",
        "    print(\"Invalid input: \", e)\n",
        "\n",
        "if int1 > int2:\n",
        "  print(\"Greatest integer: \", int1)\n",
        "if int2 > int1:\n",
        "  print(\"Greatest integer: \", int2)\n",
        "if int1 == int2:\n",
        "  print(\"The two integers are equal!\")"
      ],
      "metadata": {
        "id": "QPBg_jntDd38"
      },
      "execution_count": null,
      "outputs": []
    },
    {
      "cell_type": "code",
      "source": [
        "# 4\n",
        "while True:\n",
        "  try:\n",
        "    count = int(input(\"Total quantity being purchased: \"))\n",
        "    break\n",
        "  except Exception as e:\n",
        "    print(\"Invalid input: \", e)\n",
        "\n",
        "if (count < 1):\n",
        "  print(\"Purchase quantity 0 or less!\")\n",
        "else:\n",
        "  if(count*100 > 1000):\n",
        "    print(\"Total cost: \", ((count*100) - (count*100)/10))\n",
        "  else:\n",
        "    print(\"Total cost: \", (count*100))"
      ],
      "metadata": {
        "id": "DuOI_lKaEm_g"
      },
      "execution_count": null,
      "outputs": []
    },
    {
      "cell_type": "code",
      "source": [
        "from IPython.lib.pretty import Breakable\n",
        "# 5\n",
        "\n",
        "while True:\n",
        "  try:\n",
        "    grade = float(input(\"Marks: \"))\n",
        "    break\n",
        "  except Exception:\n",
        "    print(\"Invalid input!\")\n",
        "\n",
        "if(grade < 0 or grade > 100):\n",
        "  print(\"Invalid grade!\")\n",
        "elif(grade < 25):\n",
        "  print(\"Grade: F\")\n",
        "elif(grade < 45):\n",
        "  print(\"Grade: E\")\n",
        "elif(grade < 50):\n",
        "  print(\"Grade: D\")\n",
        "elif(grade < 60):\n",
        "  print(\"Grade: C\")\n",
        "elif(grade < 80):\n",
        "  print(\"Grade: B\")\n",
        "elif(grade < 101):\n",
        "  print(\"Grade: A\")"
      ],
      "metadata": {
        "id": "PkZAsEA-IgU8"
      },
      "execution_count": null,
      "outputs": []
    },
    {
      "cell_type": "code",
      "source": [
        "# 6\n",
        "\n",
        "while True:\n",
        "  try:\n",
        "    p1 = int(input(\"Age of first person: \"))\n",
        "    p2 = int(input(\"Age of second person: \"))\n",
        "    p3 = int(input(\"Age of third person: \"))\n",
        "    break\n",
        "  except Exception as e:\n",
        "    print(\"Invalid input: \", e)\n",
        "\n",
        "if(p1 < 1 or p2 < 1 or p3 < 1):\n",
        "  print(\"All ages must be 1 or above!\")\n",
        "else:\n",
        "  ages = [('p1',p1),('p2',p2),('p3',p3)]\n",
        "  ages.sort(key = lambda x: x[1])\n",
        "  print(\"Youngest person: \", ages[0][0])\n",
        "  print(\"Oldest person: \", ages[2][0])"
      ],
      "metadata": {
        "id": "a-AXO9mDK3hn"
      },
      "execution_count": null,
      "outputs": []
    },
    {
      "cell_type": "code",
      "source": [
        "# 7\n",
        "\n",
        "while True:\n",
        "  try:\n",
        "    value = float(input(\"Enter the number to be converted: \"))\n",
        "    break\n",
        "  except Exception as e:\n",
        "    print(\"Invalid input: \", e)\n",
        "\n",
        "print(\"Absolute value of that number is: \", abs(value))"
      ],
      "metadata": {
        "id": "a0je9G0k2JXJ"
      },
      "execution_count": null,
      "outputs": []
    },
    {
      "cell_type": "code",
      "source": [
        "# 8\n",
        "\n",
        "while True:\n",
        "  try:\n",
        "    tot_class = int(input(\"Number of classes held: \"))\n",
        "    att_class = int(input(\"Number of classes attended: \"))\n",
        "    break\n",
        "  except Exception as e:\n",
        "    print(\"Invalid input: \", e)\n",
        "\n",
        "perc = (att_class/tot_class)*100\n",
        "\n",
        "print(\"Percentage of class attended:\", round(perc,2), \"%\")\n",
        "\n",
        "if perc >= 75:\n",
        "  print(\"Allowed to sit in the exam!\")\n",
        "else:\n",
        "  print(\"NOT allowed to sit in the exam!\")"
      ],
      "metadata": {
        "id": "AWtTMOSC9nUt"
      },
      "execution_count": null,
      "outputs": []
    },
    {
      "cell_type": "code",
      "source": [
        "# 9\n",
        "\n",
        "while True:\n",
        "  try:\n",
        "    tot_class = int(input(\"Number of classes held: \"))\n",
        "    att_class = int(input(\"Number of classes attended: \"))\n",
        "    break\n",
        "  except Exception as e:\n",
        "    print(\"Invalid input: \", e)\n",
        "\n",
        "perc = (att_class/tot_class)*100\n",
        "\n",
        "if perc < 75:\n",
        "  while True:\n",
        "    med_excep = (input(\"Is there a Medical Cause (Y/N): \")).upper()\n",
        "    if med_excep != \"Y\" and med_excep != \"N\":\n",
        "      print(\"Medical cause can only be \"\"Y\"\" or \"\"N\"\"!\")\n",
        "      continue\n",
        "    break\n",
        "\n",
        "print(\"Percentage of class attended:\", round(perc,2), \"%\")\n",
        "\n",
        "if perc >= 75 or med_excep == \"Y\":\n",
        "  print(\"Allowed to sit in the exam!\")\n",
        "else:\n",
        "  print(\"NOT allowed to sit in the exam!\")"
      ],
      "metadata": {
        "id": "2_6o3LDj_iPL"
      },
      "execution_count": null,
      "outputs": []
    }
  ]
}