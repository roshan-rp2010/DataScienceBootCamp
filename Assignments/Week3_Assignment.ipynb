{
  "nbformat": 4,
  "nbformat_minor": 0,
  "metadata": {
    "colab": {
      "provenance": []
    },
    "kernelspec": {
      "name": "python3",
      "display_name": "Python 3"
    },
    "language_info": {
      "name": "python"
    }
  },
  "cells": [
    {
      "cell_type": "markdown",
      "source": [
        "# Tic-Tac-Toe"
      ],
      "metadata": {
        "id": "iCd1CFkgDlZs"
      }
    },
    {
      "cell_type": "markdown",
      "source": [
        "Instructions from Rohit:\n",
        "\n",
        "Creating a tic-tac-toe game between computer and human\n",
        "\n",
        "1st user will enter his name\n",
        "\n",
        "user wil choice X or O\n",
        "\n",
        "randomly first turn will be decided\n",
        "\n",
        "After each turn show Board with replaced Indexes by X or O\n",
        "\n",
        "If no one wins and board is full say its a draw\n",
        "\n",
        "Win conditions are horizontal match or vertical match or diagonal match\n",
        "\n",
        "ask user if we wants to play again at end of game"
      ],
      "metadata": {
        "id": "IwdnqB6ODxqa"
      }
    },
    {
      "cell_type": "code",
      "source": [
        "# imports\n",
        "\n",
        "import random"
      ],
      "metadata": {
        "id": "AqZftquNH6aH"
      },
      "execution_count": 56,
      "outputs": []
    },
    {
      "cell_type": "code",
      "source": [
        "# Instructions and board example for user before playing\n",
        "\n",
        "def instructions():\n",
        "  print(\"\\nWelcome to Tic-Tac-Toe game!\\nWho goes first is chosen randomly!\")\n",
        "  print(\"You may choose \\\"X\\\" or \\\"O\\\" as your symbol\\nBelow is an example of what the board looks like along with row numbering and column numbering\")\n",
        "  print(\"Once either Computer or You win, the game ends!\\n\")\n",
        "\n",
        "  print(\"In the matrix, first number is Row number, and second number is Column number!\\n\")\n",
        "\n",
        "  print(\"          C O L U M N\\n\")\n",
        "  print(\"         0     1     2\\n\")\n",
        "  print(\"R   0   {} | {} | {} \".format(\"0,0\",\"0,1\",\"0,2\"))\n",
        "  print(\"       -----------------\")\n",
        "  print(\"O   1   {} | {} | {} \".format(\"1,0\",\"1,1\",\"1,2\"))\n",
        "  print(\"       -----------------\")\n",
        "  print(\"W   2   {} | {} | {} \".format(\"2,0\",\"2,1\",\"2,2\"))\n",
        "  print(\"\")"
      ],
      "metadata": {
        "id": "PA7W5NM7LRmC"
      },
      "execution_count": 57,
      "outputs": []
    },
    {
      "cell_type": "code",
      "execution_count": 58,
      "metadata": {
        "id": "YvkeojPLCzCy"
      },
      "outputs": [],
      "source": [
        "# prints the tic-tac-toe board based on passed list of\n",
        "\n",
        "def printboard(tmp_board):\n",
        "  print(\"\")\n",
        "  print(\" {} | {} | {} \".format(tmp_board[0][0],tmp_board[0][1],tmp_board[0][2]))\n",
        "  print(\"-----------\")\n",
        "  print(\" {} | {} | {} \".format(tmp_board[1][0],tmp_board[1][1],tmp_board[1][2]))\n",
        "  print(\"-----------\")\n",
        "  print(\" {} | {} | {} \".format(tmp_board[2][0],tmp_board[2][1],tmp_board[2][2]))\n",
        "  print(\"\")"
      ]
    },
    {
      "cell_type": "code",
      "source": [
        "# checks if a winning condition has been met or not. returns True if it has and False otherwise\n",
        "\n",
        "def check_winner(sign, tmp_board):\n",
        "  a = tmp_board\n",
        "  b = sign\n",
        "  return ((a[0][0] == b and a[0][1] == b and a[0][2] == b) or\n",
        "          (a[1][0] == b and a[1][1] == b and a[1][2] == b) or\n",
        "          (a[2][0] == b and a[2][1] == b and a[2][2] == b) or\n",
        "          (a[0][0] == b and a[1][0] == b and a[2][0] == b) or\n",
        "          (a[0][1] == b and a[1][1] == b and a[2][1] == b) or\n",
        "          (a[0][2] == b and a[1][2] == b and a[2][2] == b) or\n",
        "          (a[0][0] == b and a[1][1] == b and a[2][2] == b) or\n",
        "          (a[0][2] == b and a[1][1] == b and a[2][0] == b))"
      ],
      "metadata": {
        "id": "jzfVYpRAG5UM"
      },
      "execution_count": 59,
      "outputs": []
    },
    {
      "cell_type": "code",
      "source": [
        "# checks if the location selected by user or computer is empty or not,\n",
        "# returns True if empty, and False if not empty\n",
        "\n",
        "def check_empty(tmp_row, tmp_col, tmp_space):\n",
        "  if [tmp_row, tmp_col] in tmp_space:\n",
        "    return True\n",
        "  else:\n",
        "    return False"
      ],
      "metadata": {
        "id": "Y3-7kOkBRxqr"
      },
      "execution_count": 60,
      "outputs": []
    },
    {
      "cell_type": "code",
      "source": [
        "# takes input from user, checks if that location has been taken or not and\n",
        "# requests a new location until user provides a location that's empty\n",
        "\n",
        "def user_input(tmp_space):\n",
        "  row_num = -1\n",
        "  col_num = -1\n",
        "  exc_exe = False\n",
        "  while True:\n",
        "    try:\n",
        "      row_num = int(input(\"Please enter row number:\"))\n",
        "      col_num = int(input(\"Please enter column number:\"))\n",
        "\n",
        "    except Exception:\n",
        "      print(\"Input must be a number! Please try again!\\n\")\n",
        "      exc_exe = True\n",
        "\n",
        "    if exc_exe == False and (row_num > 2 or row_num < 0 or col_num > 2 or col_num < 0):\n",
        "      print(\"Input must be between 0 and 2!\\n\")\n",
        "      continue\n",
        "\n",
        "    if exc_exe == False and [row_num, col_num] not in tmp_space:\n",
        "      print(\"That location has already been selected!\\nPlease try another location!\\n\")\n",
        "      continue\n",
        "\n",
        "    if [row_num, col_num] in tmp_space:\n",
        "      break\n",
        "\n",
        "    exc_exe = False\n",
        "\n",
        "  return [row_num, col_num]"
      ],
      "metadata": {
        "id": "APUOKWEaHARy"
      },
      "execution_count": 61,
      "outputs": []
    },
    {
      "cell_type": "code",
      "source": [
        "# generates a random row location and column location for computer's input\n",
        "\n",
        "def comp_input(tmp_space):\n",
        "  tmp_loc = random.randint(0,(len(tmp_space) - 1))\n",
        "\n",
        "  return tmp_space[tmp_loc]"
      ],
      "metadata": {
        "id": "dfr5N-tLJo-P"
      },
      "execution_count": 62,
      "outputs": []
    },
    {
      "cell_type": "code",
      "source": [
        "# checks if user wants to play the game again, if yes, returns True, else False\n",
        "\n",
        "def play_again():\n",
        "  while True:\n",
        "    tmp_str = (input(\"\\nWould you like to play again? (Y/N)\")).upper()\n",
        "    if tmp_str != \"Y\" and tmp_str != \"N\":\n",
        "      print(\"Response must be letters Y or N only!\")\n",
        "      continue\n",
        "    break\n",
        "\n",
        "  if tmp_str == \"Y\":\n",
        "    return True\n",
        "  else:\n",
        "    return False"
      ],
      "metadata": {
        "id": "Qo6imCWabs3v"
      },
      "execution_count": 63,
      "outputs": []
    },
    {
      "cell_type": "code",
      "source": [
        "# main\n",
        "\n",
        "instructions()\n",
        "\n",
        "again = True  # allows user to play the game again once it ends\n",
        "\n",
        "while again:\n",
        "\n",
        "  ttt_board = [[\" \",\" \",\" \"],[\" \",\" \",\" \"],[\" \",\" \",\" \"]]\n",
        "  space_rem = [[0,0],[0,1],[0,2],[1,0],[1,1],[1,2],[2,0],[2,1],[2,2]]\n",
        "  user_turn = False\n",
        "  game_won = False\n",
        "  row_col = []\n",
        "  user_symbol = \"\"\n",
        "  comp_symbol = \"\"\n",
        "\n",
        "# choose which variable does user wants\n",
        "  while user_symbol != \"X\" and user_symbol != \"O\":\n",
        "    user_symbol = (input(\"\\nWhich symbol would you like to choose, \\\"X\\\" or \\\"O\\\": \")).upper()\n",
        "    if user_symbol != \"X\" and user_symbol != \"O\":\n",
        "      print(\"Symbol must be either \\\"X\\\" or \\\"O\\\"!\")\n",
        "\n",
        "  if user_symbol == \"X\":\n",
        "    comp_symbol = \"O\"\n",
        "  else:\n",
        "    comp_symbol = \"X\"\n",
        "\n",
        "# randomly choose who goes first\n",
        "  init_turn = random.randint(0,99)\n",
        "\n",
        "  if init_turn < 50:\n",
        "    user_turn = True\n",
        "    print(\"\\nYou get to go first!\")\n",
        "  else:\n",
        "    print(\"\\nComputer gets to go first!\")\n",
        "\n",
        "# game starts\n",
        "  while len(space_rem) != 0:\n",
        "    printboard(ttt_board)\n",
        "    if user_turn:\n",
        "      print(\"Your turn:\")\n",
        "      row_col = user_input(space_rem)\n",
        "      user_turn = False\n",
        "      ttt_board[row_col[0]][row_col[1]] = user_symbol\n",
        "      space_rem.remove(row_col)\n",
        "      if check_winner(user_symbol, ttt_board):\n",
        "        game_won = True\n",
        "        printboard(ttt_board)\n",
        "        print(\"\\n\\n---------YOU WON THE GAME!---------\\n\")\n",
        "        break\n",
        "    else:\n",
        "      print(\"Computer's turn:\")\n",
        "      row_col = comp_input(space_rem)\n",
        "      user_turn = True\n",
        "      ttt_board[row_col[0]][row_col[1]] = comp_symbol\n",
        "      space_rem.remove(row_col)\n",
        "      if check_winner(comp_symbol, ttt_board):\n",
        "        game_won = True\n",
        "        printboard(ttt_board)\n",
        "        print(\"\\n\\n---------COMPUTER WON THE GAME!---------\\n\")\n",
        "        break\n",
        "\n",
        "# executes if the game ends without anyone winning\n",
        "  if not game_won:\n",
        "    printboard(ttt_board)\n",
        "    print(\"\\n\\n---------THIS GAME IS A DRAW---------\\n\")\n",
        "\n",
        "# check if user wants to play again\n",
        "  if play_again():\n",
        "    again = True\n",
        "  else:\n",
        "    again = False"
      ],
      "metadata": {
        "id": "x-62rWu3HcgM"
      },
      "execution_count": null,
      "outputs": []
    }
  ]
}