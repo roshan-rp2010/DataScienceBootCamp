{
  "nbformat": 4,
  "nbformat_minor": 0,
  "metadata": {
    "colab": {
      "provenance": []
    },
    "kernelspec": {
      "name": "python3",
      "display_name": "Python 3"
    },
    "language_info": {
      "name": "python"
    }
  },
  "cells": [
    {
      "cell_type": "code",
      "execution_count": null,
      "metadata": {
        "id": "Yld1_M6MwAQU"
      },
      "outputs": [],
      "source": [
        "# Sets in-built functions"
      ]
    },
    {
      "cell_type": "code",
      "source": [
        "myset = {\"apple\",\"banana\",\"cherry\",1,50,\"names\"}\n",
        "dir(myset)"
      ],
      "metadata": {
        "colab": {
          "base_uri": "https://localhost:8080/"
        },
        "id": "PMHkfdTRwMR4",
        "outputId": "3700065c-4bba-4922-e8f1-15ae5ad63baa"
      },
      "execution_count": 32,
      "outputs": [
        {
          "output_type": "execute_result",
          "data": {
            "text/plain": [
              "['__and__',\n",
              " '__class__',\n",
              " '__class_getitem__',\n",
              " '__contains__',\n",
              " '__delattr__',\n",
              " '__dir__',\n",
              " '__doc__',\n",
              " '__eq__',\n",
              " '__format__',\n",
              " '__ge__',\n",
              " '__getattribute__',\n",
              " '__gt__',\n",
              " '__hash__',\n",
              " '__iand__',\n",
              " '__init__',\n",
              " '__init_subclass__',\n",
              " '__ior__',\n",
              " '__isub__',\n",
              " '__iter__',\n",
              " '__ixor__',\n",
              " '__le__',\n",
              " '__len__',\n",
              " '__lt__',\n",
              " '__ne__',\n",
              " '__new__',\n",
              " '__or__',\n",
              " '__rand__',\n",
              " '__reduce__',\n",
              " '__reduce_ex__',\n",
              " '__repr__',\n",
              " '__ror__',\n",
              " '__rsub__',\n",
              " '__rxor__',\n",
              " '__setattr__',\n",
              " '__sizeof__',\n",
              " '__str__',\n",
              " '__sub__',\n",
              " '__subclasshook__',\n",
              " '__xor__',\n",
              " 'add',\n",
              " 'clear',\n",
              " 'copy',\n",
              " 'difference',\n",
              " 'difference_update',\n",
              " 'discard',\n",
              " 'intersection',\n",
              " 'intersection_update',\n",
              " 'isdisjoint',\n",
              " 'issubset',\n",
              " 'issuperset',\n",
              " 'pop',\n",
              " 'remove',\n",
              " 'symmetric_difference',\n",
              " 'symmetric_difference_update',\n",
              " 'union',\n",
              " 'update']"
            ]
          },
          "metadata": {},
          "execution_count": 32
        }
      ]
    },
    {
      "cell_type": "code",
      "source": [
        "# adds the new element in the set\n",
        "\n",
        "myset = {\"apple\",\"banana\",\"cherry\",1,50,\"names\"}\n",
        "\n",
        "myset.add(\"watermelon\")\n",
        "\n",
        "print(myset)"
      ],
      "metadata": {
        "colab": {
          "base_uri": "https://localhost:8080/"
        },
        "id": "q4b6vt8TwpWK",
        "outputId": "2e373ac6-5616-471f-b7e3-21c1bde25ef5"
      },
      "execution_count": 15,
      "outputs": [
        {
          "output_type": "stream",
          "name": "stdout",
          "text": [
            "{1, 'names', 50, 'cherry', 'banana', 'apple', 'watermelon'}\n"
          ]
        }
      ]
    },
    {
      "cell_type": "code",
      "source": [
        "# removes all elements from the set\n",
        "\n",
        "myset = {\"apple\",\"banana\",\"cherry\",1,50,\"names\"}\n",
        "\n",
        "myset.clear()\n",
        "\n",
        "print(myset)"
      ],
      "metadata": {
        "colab": {
          "base_uri": "https://localhost:8080/"
        },
        "id": "1uj-cwHjJo4U",
        "outputId": "2af006bc-d96f-470e-a8dc-43dd16fb27fb"
      },
      "execution_count": 16,
      "outputs": [
        {
          "output_type": "stream",
          "name": "stdout",
          "text": [
            "set()\n"
          ]
        }
      ]
    },
    {
      "cell_type": "code",
      "source": [
        "# creates a shallow copy of the set\n",
        "\n",
        "myset = {\"apple\",\"banana\",\"cherry\",1,50,\"names\"}\n",
        "\n",
        "newset = myset.copy()\n",
        "\n",
        "print(newset)"
      ],
      "metadata": {
        "colab": {
          "base_uri": "https://localhost:8080/"
        },
        "id": "jcjCl0t0J6_B",
        "outputId": "7e447f07-9086-4a28-a4fa-0852dbdab02d"
      },
      "execution_count": 17,
      "outputs": [
        {
          "output_type": "stream",
          "name": "stdout",
          "text": [
            "{1, 'names', 50, 'cherry', 'banana', 'apple'}\n"
          ]
        }
      ]
    },
    {
      "cell_type": "code",
      "source": [
        "# creats a new set with a - b in set, only disjoint elements of set a\n",
        "\n",
        "myset = {\"apple\",\"banana\",\"cherry\",1,50,\"names\"}\n",
        "myset_2 = {\"apple\",\"cherry\",1,50,\"names\",\"melon\"}\n",
        "\n",
        "print(myset.difference(myset_2))\n",
        "\n",
        "print(myset)\n",
        "print(myset_2)"
      ],
      "metadata": {
        "colab": {
          "base_uri": "https://localhost:8080/"
        },
        "id": "MD2XzWVgKDh2",
        "outputId": "65f0b539-0cde-4afb-9473-7faa561ccdd2"
      },
      "execution_count": 18,
      "outputs": [
        {
          "output_type": "stream",
          "name": "stdout",
          "text": [
            "{'banana'}\n",
            "{1, 'names', 50, 'cherry', 'banana', 'apple'}\n",
            "{1, 'names', 50, 'cherry', 'melon', 'apple'}\n"
          ]
        }
      ]
    },
    {
      "cell_type": "code",
      "source": [
        "# updates the first set with only the difference of a - b, disjoint elements of set a\n",
        "\n",
        "myset = {\"apple\",\"banana\",\"cherry\",1,50,\"names\"}\n",
        "myset_2 = {\"apple\",\"cherry\",1,50,\"names\",\"melon\"}\n",
        "\n",
        "myset.difference_update(myset_2)\n",
        "\n",
        "print(myset)\n",
        "print(myset_2)"
      ],
      "metadata": {
        "colab": {
          "base_uri": "https://localhost:8080/"
        },
        "id": "N7-mbFpSKdoX",
        "outputId": "c2b1e806-6151-4f96-9073-b75e786536db"
      },
      "execution_count": 19,
      "outputs": [
        {
          "output_type": "stream",
          "name": "stdout",
          "text": [
            "{'banana'}\n",
            "{1, 'names', 50, 'cherry', 'melon', 'apple'}\n"
          ]
        }
      ]
    },
    {
      "cell_type": "code",
      "source": [
        "# removes the passed element from the set, doesn't raise an error if element not found\n",
        "\n",
        "myset = {\"apple\",\"banana\",\"cherry\",1,50,\"names\"}\n",
        "\n",
        "myset.discard(\"names\")\n",
        "\n",
        "print(myset)"
      ],
      "metadata": {
        "colab": {
          "base_uri": "https://localhost:8080/"
        },
        "id": "ZfPMS6N3LWtu",
        "outputId": "ec7869e4-214c-48f6-bc4c-bc2a18c52211"
      },
      "execution_count": 20,
      "outputs": [
        {
          "output_type": "stream",
          "name": "stdout",
          "text": [
            "{1, 50, 'cherry', 'banana', 'apple'}\n"
          ]
        }
      ]
    },
    {
      "cell_type": "code",
      "source": [
        "# creates a new set with intersection of both sets\n",
        "\n",
        "myset = {\"apple\",\"banana\",\"cherry\",1,50,\"names\"}\n",
        "myset_2 = {\"apple\",\"cherry\",1,50,\"names\",\"melon\"}\n",
        "\n",
        "print(myset.intersection(myset_2))\n",
        "\n",
        "print(myset)\n",
        "print(myset_2)"
      ],
      "metadata": {
        "colab": {
          "base_uri": "https://localhost:8080/"
        },
        "id": "NP6vPicYLuuc",
        "outputId": "68bc378d-3d1a-4275-8f79-e9b6bc655e38"
      },
      "execution_count": 21,
      "outputs": [
        {
          "output_type": "stream",
          "name": "stdout",
          "text": [
            "{1, 'names', 50, 'cherry', 'apple'}\n",
            "{1, 'names', 50, 'cherry', 'banana', 'apple'}\n",
            "{1, 'names', 50, 'cherry', 'melon', 'apple'}\n"
          ]
        }
      ]
    },
    {
      "cell_type": "code",
      "source": [
        "# updates first set with the intersection of both sets\n",
        "\n",
        "myset = {\"apple\",\"banana\",\"cherry\",1,50,\"names\"}\n",
        "myset_2 = {\"apple\",\"cherry\",1,50,\"names\",\"melon\"}\n",
        "\n",
        "myset.intersection_update(myset_2)\n",
        "\n",
        "print(myset)\n",
        "print(myset_2)"
      ],
      "metadata": {
        "colab": {
          "base_uri": "https://localhost:8080/"
        },
        "id": "Wgyp6iORL30X",
        "outputId": "3afb8909-86ff-4700-eb79-245d9e8c4602"
      },
      "execution_count": 22,
      "outputs": [
        {
          "output_type": "stream",
          "name": "stdout",
          "text": [
            "{1, 'names', 50, 'cherry', 'apple'}\n",
            "{1, 'names', 50, 'cherry', 'melon', 'apple'}\n"
          ]
        }
      ]
    },
    {
      "cell_type": "code",
      "source": [
        "# checks if both sets are disjoint or not\n",
        "\n",
        "myset = {\"apple\",\"banana\",\"cherry\",1,50,\"names\"}\n",
        "myset_2 = {\"apple\",\"cherry\",1,50,\"names\",\"melon\"}\n",
        "\n",
        "print(myset.isdisjoint(myset_2))\n",
        "\n",
        "print(myset)\n",
        "print(myset_2)"
      ],
      "metadata": {
        "colab": {
          "base_uri": "https://localhost:8080/"
        },
        "id": "v5ZZKdBOMBDW",
        "outputId": "fca44685-2218-480c-aa9e-906daf953d14"
      },
      "execution_count": 23,
      "outputs": [
        {
          "output_type": "stream",
          "name": "stdout",
          "text": [
            "False\n",
            "{1, 'names', 50, 'cherry', 'banana', 'apple'}\n",
            "{1, 'names', 50, 'cherry', 'melon', 'apple'}\n"
          ]
        }
      ]
    },
    {
      "cell_type": "code",
      "source": [
        "# checks if the first set is subset of second set or not\n",
        "\n",
        "myset = {\"apple\",\"cherry\",1,50,\"names\"}\n",
        "myset_2 = {\"apple\",\"cherry\",1,50,\"names\",\"melon\"}\n",
        "\n",
        "print(myset.issubset(myset_2))\n",
        "\n",
        "print(myset)\n",
        "print(myset_2)"
      ],
      "metadata": {
        "colab": {
          "base_uri": "https://localhost:8080/"
        },
        "id": "uq-RIAnSjx7r",
        "outputId": "bee4585a-2f42-4777-d272-63ac8bd895c0"
      },
      "execution_count": 24,
      "outputs": [
        {
          "output_type": "stream",
          "name": "stdout",
          "text": [
            "True\n",
            "{1, 'names', 50, 'cherry', 'apple'}\n",
            "{1, 'names', 50, 'cherry', 'melon', 'apple'}\n"
          ]
        }
      ]
    },
    {
      "cell_type": "code",
      "source": [
        "# checks if the first set is superset of second set or not\n",
        "\n",
        "myset = {\"apple\",\"cherry\",1,50,\"names\"}\n",
        "myset_2 = {\"apple\",\"cherry\",1,50,\"names\",\"melon\"}\n",
        "\n",
        "print(myset.issuperset(myset_2))\n",
        "\n",
        "print(myset)\n",
        "print(myset_2)"
      ],
      "metadata": {
        "colab": {
          "base_uri": "https://localhost:8080/"
        },
        "id": "Bko0MZ0Bj-Q-",
        "outputId": "0a31162d-4a44-4906-e00a-eb598b816c55"
      },
      "execution_count": 25,
      "outputs": [
        {
          "output_type": "stream",
          "name": "stdout",
          "text": [
            "False\n",
            "{1, 'names', 50, 'cherry', 'apple'}\n",
            "{1, 'names', 50, 'cherry', 'melon', 'apple'}\n"
          ]
        }
      ]
    },
    {
      "cell_type": "code",
      "source": [
        "# removes first element from the set\n",
        "\n",
        "myset = {\"apple\",\"banana\",\"cherry\",1,50,\"names\"}\n",
        "print(myset)\n",
        "\n",
        "myset.pop()\n",
        "\n",
        "print(myset)"
      ],
      "metadata": {
        "colab": {
          "base_uri": "https://localhost:8080/"
        },
        "id": "zljW2beNkJrp",
        "outputId": "e87bfe41-2eb8-4595-b9c4-581cedde9ec7"
      },
      "execution_count": 26,
      "outputs": [
        {
          "output_type": "stream",
          "name": "stdout",
          "text": [
            "{1, 'names', 50, 'cherry', 'banana', 'apple'}\n",
            "{'names', 50, 'cherry', 'banana', 'apple'}\n"
          ]
        }
      ]
    },
    {
      "cell_type": "code",
      "source": [
        "# removes given element from the set, raises an error if element not found\n",
        "\n",
        "myset = {\"apple\",\"banana\",\"cherry\",1,50,\"names\"}\n",
        "print(myset)\n",
        "\n",
        "myset.remove(\"banana\")\n",
        "\n",
        "print(myset)"
      ],
      "metadata": {
        "colab": {
          "base_uri": "https://localhost:8080/"
        },
        "id": "PCfjXKZDkW4_",
        "outputId": "7cc516d9-65cf-458d-c044-0d01549e64f6"
      },
      "execution_count": 27,
      "outputs": [
        {
          "output_type": "stream",
          "name": "stdout",
          "text": [
            "{1, 'names', 50, 'cherry', 'banana', 'apple'}\n",
            "{1, 'names', 50, 'cherry', 'apple'}\n"
          ]
        }
      ]
    },
    {
      "cell_type": "code",
      "source": [
        "# creates a new set with disjoint elements of both sets\n",
        "\n",
        "myset = {\"apple\",\"banana\",\"cherry\",1,50,\"names\"}\n",
        "myset_2 = {\"apple\",\"cherry\",1,50,\"names\",\"melon\"}\n",
        "\n",
        "myset_3 = myset.symmetric_difference(myset_2)\n",
        "\n",
        "print(myset)\n",
        "print(myset_2)\n",
        "print(myset_3)"
      ],
      "metadata": {
        "colab": {
          "base_uri": "https://localhost:8080/"
        },
        "id": "3_JWXdVAklHR",
        "outputId": "84777c9d-272b-45b9-af49-2e8a0b011942"
      },
      "execution_count": 28,
      "outputs": [
        {
          "output_type": "stream",
          "name": "stdout",
          "text": [
            "{1, 'names', 50, 'cherry', 'banana', 'apple'}\n",
            "{1, 'names', 50, 'cherry', 'melon', 'apple'}\n",
            "{'banana', 'melon'}\n"
          ]
        }
      ]
    },
    {
      "cell_type": "code",
      "source": [
        "# updates first set with disjoint elements of both sets\n",
        "\n",
        "myset = {\"apple\",\"banana\",\"cherry\",1,50,\"names\"}\n",
        "myset_2 = {\"apple\",\"cherry\",1,50,\"names\",\"melon\"}\n",
        "\n",
        "myset.symmetric_difference_update(myset_2)\n",
        "\n",
        "print(myset)\n",
        "print(myset_2)"
      ],
      "metadata": {
        "colab": {
          "base_uri": "https://localhost:8080/"
        },
        "id": "u54D0fCpk37V",
        "outputId": "d1e65df2-a298-43d4-8662-e7e74716d20f"
      },
      "execution_count": 29,
      "outputs": [
        {
          "output_type": "stream",
          "name": "stdout",
          "text": [
            "{'banana', 'melon'}\n",
            "{1, 'names', 50, 'cherry', 'melon', 'apple'}\n"
          ]
        }
      ]
    },
    {
      "cell_type": "code",
      "source": [
        "# creates a new set with union of both sets, discards duplicates\n",
        "\n",
        "myset = {\"apple\",\"banana\",\"cherry\",1,50,\"names\"}\n",
        "myset_2 = {\"apple\",\"cherry\",1,50,\"names\",\"melon\"}\n",
        "\n",
        "myset_3 = myset.union(myset_2)\n",
        "\n",
        "print(myset)\n",
        "print(myset_2)\n",
        "print(myset_3)"
      ],
      "metadata": {
        "colab": {
          "base_uri": "https://localhost:8080/"
        },
        "id": "NUo0Nt47lE2Z",
        "outputId": "a335a711-18e4-4be9-fb39-1673adef21bc"
      },
      "execution_count": 30,
      "outputs": [
        {
          "output_type": "stream",
          "name": "stdout",
          "text": [
            "{1, 'names', 50, 'cherry', 'banana', 'apple'}\n",
            "{1, 'names', 50, 'cherry', 'melon', 'apple'}\n",
            "{1, 'melon', 'names', 50, 'cherry', 'banana', 'apple'}\n"
          ]
        }
      ]
    },
    {
      "cell_type": "code",
      "source": [
        "# updates first set with union of both sets\n",
        "\n",
        "myset = {\"apple\",\"banana\",\"cherry\",1,50,\"names\"}\n",
        "myset_2 = {\"apple\",\"cherry\",1,50,\"names\",\"melon\"}\n",
        "\n",
        "myset.update(myset_2)\n",
        "\n",
        "print(myset)\n",
        "print(myset_2)"
      ],
      "metadata": {
        "colab": {
          "base_uri": "https://localhost:8080/"
        },
        "id": "PLwS6ft2lMU2",
        "outputId": "617cf377-df59-4af8-fef1-a079ba115fbb"
      },
      "execution_count": 31,
      "outputs": [
        {
          "output_type": "stream",
          "name": "stdout",
          "text": [
            "{1, 'melon', 'names', 50, 'cherry', 'banana', 'apple'}\n",
            "{1, 'names', 50, 'cherry', 'melon', 'apple'}\n"
          ]
        }
      ]
    }
  ]
}